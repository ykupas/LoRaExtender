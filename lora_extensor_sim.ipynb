{
 "cells": [
  {
   "cell_type": "code",
   "execution_count": null,
   "metadata": {},
   "outputs": [],
   "source": [
    "import numpy as np\n",
    "import matplotlib.pyplot as plt\n",
    "\n",
    "from device import Device\n",
    "from lora_extensor import LoRaExtensor"
   ]
  },
  {
   "cell_type": "code",
   "execution_count": null,
   "metadata": {},
   "outputs": [],
   "source": [
    "# Set device consumption characteristics\n",
    "# https://www.semtech.com/products/wireless-rf/lora-connect/sx1262\n",
    "sx1262 = Device()\n",
    "sx1262.SetTxCurrent(118.0)          # 868~915 MHz/+22dBm\n",
    "sx1262.SetRxCurrent(5.3)            # DCDC Mode/Rx Boosted, LoRa, 125kHz\n",
    "sx1262.SetIdleCurrent(0.6)          # RC mode/XOSC off\n",
    "sx1262.SetSleepCurrent(0.0012)      # Sleep with warm start/RC64k\n",
    "sx1262.SetVoltage(3.3)\n",
    "\n",
    "\n",
    "# Set LoRa endpoint characteristics\n",
    "endpoint = LoRaExtensor()\n",
    "endpoint.SetCR(1)\n",
    "endpoint.SetBW(125)\n",
    "endpoint.SetSF(10)\n",
    "\n",
    "\n",
    "# Set LoRa relay characteristics\n",
    "relay = LoRaExtensor()\n",
    "relay.SetCR(1)\n",
    "relay.SetBW(125)\n",
    "relay.SetSF(10)\n",
    "\n",
    "\n",
    "# Set uplink send interval in minutes\n",
    "periodicityMin = 1\n",
    "periodicity = periodicityMin * 60\n",
    "# Set simulation duration in hours\n",
    "simDurationH = 24*365*5\n",
    "simDuration = simDurationH * 3600\n",
    "# Set payload (application) data length\n",
    "dataLength = 11"
   ]
  },
  {
   "cell_type": "code",
   "execution_count": null,
   "metadata": {},
   "outputs": [],
   "source": [
    "print(\"LoRa Phy Extensor - endpoint uplink simulation\")\n",
    "print(\"LoRa PHY: SF\", endpoint.GetSF(), \"| BW\", relay.GetBW(), \"kHz | CR\", endpoint.GetCR(), \"| Payload length\", dataLength)\n",
    "print(\"Uplink periodicity [min]:\", periodicityMin, \"| Simulation duration [h]:\", simDurationH)\n",
    "\n",
    "totalTime = simDuration\n",
    "txTime, rxTime, idleTime, sleepTime = endpoint.SimulateEndpointLoRaExtensor(periodicity, dataLength, simDuration)\n",
    "print(\" \")\n",
    "print(\"Time %\")\n",
    "print(\"TX:\", (txTime/totalTime)*100, \"%\")\n",
    "print(\"RX:\", (rxTime/totalTime)*100, \"%\")\n",
    "# print(\"Idle:\", (idleTime/totalTime)*100, \"%\")\n",
    "print(\"Sleep:\", (sleepTime/totalTime)*100, \"%\")\n",
    "print(\" \")\n",
    "\n",
    "total_mAh, tx_mAh, rx_mAh, idle_mAh, sleep_mAh = sx1262.GetAppConsumption(totalTime, txTime, rxTime, idleTime, sleepTime)\n",
    "# total_Wh, tx_Wh, rx_Wh, idle_Wh, sleep_Wh = sx1262.GetAppConsumptionInWh(totalTime, txTime, rxTime, idleTime, sleepTime)\n",
    "# total_J, tx_J, rx_J, idle_J, sleep_J = sx1262.GetAppConsumptionInJ(totalTime, txTime, rxTime, idleTime, sleepTime)\n",
    "print(\"Consumption %\")\n",
    "print(\"% Tx:\", (tx_mAh/total_mAh)*100, \"%\")\n",
    "print(\"% Rx:\", (rx_mAh/total_mAh)*100, \"%\")\n",
    "# print(\"% Idle:\", (idle_mAh/total_mAh)*100, \"%\")\n",
    "print(\"% Sleep:\", (sleep_mAh/total_mAh)*100, \"%\")"
   ]
  }
 ],
 "metadata": {
  "kernelspec": {
   "display_name": "Python 3",
   "language": "python",
   "name": "python3"
  },
  "language_info": {
   "codemirror_mode": {
    "name": "ipython",
    "version": 3
   },
   "file_extension": ".py",
   "mimetype": "text/x-python",
   "name": "python",
   "nbconvert_exporter": "python",
   "pygments_lexer": "ipython3",
   "version": "3.10.12"
  }
 },
 "nbformat": 4,
 "nbformat_minor": 2
}
